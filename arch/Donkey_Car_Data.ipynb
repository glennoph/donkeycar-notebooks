{
 "cells": [
  {
   "cell_type": "markdown",
   "metadata": {},
   "source": [
    "Sample script to count test files in Donkey Car test set\n"
   ]
  },
  {
   "cell_type": "code",
   "execution_count": 13,
   "metadata": {},
   "outputs": [
    {
     "name": "stdout",
     "output_type": "stream",
     "text": [
      "1\n",
      "33540\n"
     ]
    }
   ],
   "source": [
    "import os, os.path\n",
    "\n",
    "# simple version for working with CWD\n",
    "print( len([name for name in os.listdir('/Users/dan/Documents/Projects/DonkeyCar/tub/test-set-01') \n",
    "            if os.path.isfile(name)]))\n",
    "\n",
    "# path joining version for other paths\n",
    "DIR = '/Users/dan/Documents/Projects/DonkeyCar/tub/test-set-01'\n",
    "print( len([name for name in os.listdir(DIR) \n",
    "            if os.path.isfile(os.path.join(DIR, name))]))"
   ]
  },
  {
   "cell_type": "markdown",
   "metadata": {},
   "source": [
    "Sample program that counts the number of jpg and json files using a regular expression"
   ]
  },
  {
   "cell_type": "code",
   "execution_count": 1,
   "metadata": {},
   "outputs": [
    {
     "name": "stdout",
     "output_type": "stream",
     "text": [
      "16652\n",
      "16652\n"
     ]
    }
   ],
   "source": [
    "import glob\n",
    "tubPath = '/Users/dan/Documents/Projects/DonkeyCar/tub/test-set-01'\n",
    "print(len(glob.glob1(tubPath,\"*.jpg\")))\n",
    "print(len(glob.glob1(tubPath,\"record_*.json\")))"
   ]
  },
  {
   "cell_type": "markdown",
   "metadata": {},
   "source": [
    "Note that there is one addional JSON file for the metadata called meta.json"
   ]
  },
  {
   "cell_type": "code",
   "execution_count": 94,
   "metadata": {},
   "outputs": [
    {
     "name": "stdout",
     "output_type": "stream",
     "text": [
      "JPG Count: 16,766\n"
     ]
    }
   ],
   "source": [
    "from pathlib import Path\n",
    "import glob\n",
    "\n",
    "tubPath = Path('/Users/dan/Documents/Projects/DonkeyCar/tub/test-set-01')\n",
    "jpgCount = len(glob.glob1(tubPath,\"*.jpg\"))\n",
    "print(\"JPG Count:\", \"{:,}\".format(jpgCount))"
   ]
  },
  {
   "cell_type": "markdown",
   "metadata": {},
   "source": [
    "Now let's look at a sample data file.  We will use the open() and json.load() functions to get the file."
   ]
  },
  {
   "cell_type": "code",
   "execution_count": 13,
   "metadata": {},
   "outputs": [
    {
     "name": "stdout",
     "output_type": "stream",
     "text": [
      "Full File:\n",
      "{'cam/image_array': '1000_cam-image_array_.jpg',\n",
      " 'timestamp': '2019-01-05 17:09:35.184483',\n",
      " 'user/angle': 0.18989955357142868,\n",
      " 'user/mode': 'user',\n",
      " 'user/throttle': 0.7175781250000001}\n",
      "\n",
      "Angle: 0.18989955357142868\n",
      "Throttle: 0.7175781250000001\n"
     ]
    }
   ],
   "source": [
    "import json\n",
    "from pprint import pprint\n",
    "\n",
    "filePath = '/Users/dan/Documents/Projects/DonkeyCar/tub/test-set-01/record_1000.json'\n",
    "json_file_path = Path(filePath)\n",
    "\n",
    "with open(json_file_path) as f:\n",
    "    data = json.load(f)\n",
    "\n",
    "print(\"Full File:\")\n",
    "pprint(data)\n",
    "\n",
    "print(\"\")\n",
    "print(\"Angle:\", data[\"user/angle\"])\n",
    "print(\"Throttle:\", data[\"user/throttle\"])"
   ]
  },
  {
   "cell_type": "markdown",
   "metadata": {},
   "source": [
    "Here is the Meta file meta.json"
   ]
  },
  {
   "cell_type": "code",
   "execution_count": 61,
   "metadata": {},
   "outputs": [
    {
     "name": "stdout",
     "output_type": "stream",
     "text": [
      "Meta File:\n",
      "{'inputs': ['cam/image_array',\n",
      "            'user/angle',\n",
      "            'user/throttle',\n",
      "            'user/mode',\n",
      "            'timestamp'],\n",
      " 'types': ['image_array', 'float', 'float', 'str', 'str']}\n"
     ]
    }
   ],
   "source": [
    "import json\n",
    "from pprint import pprint\n",
    "\n",
    "filePath = '/Users/dan/Documents/Projects/DonkeyCar/tub/test-set-01/meta.json'\n",
    "json_file_path = Path(filePath)\n",
    "\n",
    "with open(json_file_path) as f:\n",
    "    data = json.load(f)\n",
    "\n",
    "print(\"Meta File:\")\n",
    "pprint(data)"
   ]
  },
  {
   "cell_type": "markdown",
   "metadata": {},
   "source": [
    "Now lets calculate the average angle.  We will count the total number of files that match the pattern record_*.json"
   ]
  },
  {
   "cell_type": "code",
   "execution_count": 85,
   "metadata": {},
   "outputs": [
    {
     "name": "stdout",
     "output_type": "stream",
     "text": [
      "Total JSON File Count: 16,768\n",
      "Valid JSON File Count: 16,652\n",
      "Invalid JSON File Count: 116\n",
      "Sum of Angles: 5,873.256398065856\n",
      "Sum of Trottle: 11,250.273293809607\n",
      "Average Angle: 0.35270576495711364\n",
      "Average Throttle: 0.6756109352515978\n",
      "\n"
     ]
    }
   ],
   "source": [
    "import os\n",
    "import json\n",
    "\n",
    "tubPath = Path('/Users/dan/Documents/Projects/DonkeyCar/tub/test-set-01')\n",
    "json_files = glob.glob1(tubPath,\"record_*.json\")\n",
    "sample_files = json_files[:20000]\n",
    "jsonCount = len(sample_files)\n",
    "print(\"Total JSON File Count:\", \"{:,}\".format(jsonCount))\n",
    "\n",
    "validFileCount = 0\n",
    "invalidFileCount = 0\n",
    "sumAngles = 0\n",
    "sumThrottle = 0\n",
    "for filename in sample_files:\n",
    "   try:\n",
    "        data = json.load(open(os.path.join(tubPath, filename)))\n",
    "        validFileCount += 1\n",
    "        sumAngles += data[\"user/angle\"]\n",
    "        sumThrottle += data[\"user/throttle\"]\n",
    "   except:\n",
    "        # print(\"Error loading:\", filename)\n",
    "        invalidFileCount += 1\n",
    "   \n",
    "print(\"Valid JSON File Count:\", \"{:,}\".format(validFileCount))\n",
    "print(\"Invalid JSON File Count:\", \"{:,}\".format(invalidFileCount))\n",
    "print(\"Sum of Angles:\", \"{:,}\".format(sumAngles))\n",
    "print(\"Sum of Throttle:\", \"{:,}\".format(sumThrottle))\n",
    "print(\"Average Angle:\", \"{:,}\".format(sumAngles/validFileCount))\n",
    "print(\"Average Throttle:\", \"{:,}\".format(sumThrottle/validFileCount))\n",
    "\n",
    "\n",
    "print(\"\")\n",
    "\n",
    "# for filename in sample_files:\n",
    "    # print(filename)"
   ]
  },
  {
   "cell_type": "markdown",
   "metadata": {},
   "source": [
    "We would now like to remove the JSON files that are invalid.  We also want to remove the associated images."
   ]
  },
  {
   "cell_type": "code",
   "execution_count": 88,
   "metadata": {},
   "outputs": [
    {
     "name": "stdout",
     "output_type": "stream",
     "text": [
      "Total JSON File Count: 16,652\n"
     ]
    }
   ],
   "source": [
    "import os\n",
    "import json\n",
    "\n",
    "tubPath = Path('/Users/dan/Documents/Projects/DonkeyCar/tub/test-set-01')\n",
    "json_files = glob.glob1(tubPath,\"record_*.json\")\n",
    "sample_files = json_files[:20000]\n",
    "jsonCount = len(sample_files)\n",
    "print(\"Total JSON File Count:\", \"{:,}\".format(jsonCount))\n",
    "\n",
    "for filename in sample_files:\n",
    "    path = os.path.join(tubPath, filename)\n",
    "    try:\n",
    "        data = json.load(open(path))\n",
    "    except:\n",
    "        print(\"Removing Invalid JSON File\", filename)\n",
    "        os.remove(path)\n",
    "        # format for image is {$id}_cam-image_array_.jpg\n",
    "        # id = filename.replace(\"_cam-image_array_.jpg\", \"\")\n",
    "        # os.remove(os.path.join('id','_cam-image_array_.jpg'))\n"
   ]
  },
  {
   "cell_type": "code",
   "execution_count": null,
   "metadata": {},
   "outputs": [],
   "source": [
    "Here is how we remove a file using the os.remove() function"
   ]
  },
  {
   "cell_type": "code",
   "execution_count": 93,
   "metadata": {},
   "outputs": [],
   "source": [
    "import os\n",
    "tubPath = Path('/Users/dan/Documents/Projects/DonkeyCar/tub/test-set-01')\n",
    "os.remove(os.path.join(tubPath, '10704' + '_cam-image_array_.jpg'))"
   ]
  },
  {
   "cell_type": "code",
   "execution_count": null,
   "metadata": {},
   "outputs": [],
   "source": [
    "Count Lines in a File"
   ]
  },
  {
   "cell_type": "code",
   "execution_count": 105,
   "metadata": {},
   "outputs": [
    {
     "name": "stdout",
     "output_type": "stream",
     "text": [
      "683\n"
     ]
    }
   ],
   "source": [
    "import os\n",
    "\n",
    "file = open('/Users/dan/Documents/Projects/DonkeyCar/notes/invalid-file-list.txt', 'r')\n",
    "print(len(file.read()))"
   ]
  },
  {
   "cell_type": "code",
   "execution_count": null,
   "metadata": {},
   "outputs": [],
   "source": [
    "For each line in the text file that has the ID, verify the file is present and get the file size.  The remove it.\n",
    "Note that the id.strip() removes the newlines after the file ID."
   ]
  },
  {
   "cell_type": "code",
   "execution_count": 119,
   "metadata": {},
   "outputs": [
    {
     "name": "stdout",
     "output_type": "stream",
     "text": [
      "/Users/dan/Documents/Projects/DonkeyCar/tub/test-set-01/10641_cam-image_array_.jpg\n",
      "False\n"
     ]
    },
    {
     "ename": "FileNotFoundError",
     "evalue": "[Errno 2] No such file or directory: '/Users/dan/Documents/Projects/DonkeyCar/tub/test-set-01/10641_cam-image_array_.jpg'",
     "output_type": "error",
     "traceback": [
      "\u001b[0;31m---------------------------------------------------------------------------\u001b[0m",
      "\u001b[0;31mFileNotFoundError\u001b[0m                         Traceback (most recent call last)",
      "\u001b[0;32m<ipython-input-119-62694f60c355>\u001b[0m in \u001b[0;36m<module>\u001b[0;34m\u001b[0m\n\u001b[1;32m      7\u001b[0m     \u001b[0mprint\u001b[0m\u001b[0;34m(\u001b[0m\u001b[0mfilename\u001b[0m\u001b[0;34m)\u001b[0m\u001b[0;34m\u001b[0m\u001b[0;34m\u001b[0m\u001b[0m\n\u001b[1;32m      8\u001b[0m     \u001b[0mprint\u001b[0m\u001b[0;34m(\u001b[0m\u001b[0mos\u001b[0m\u001b[0;34m.\u001b[0m\u001b[0mpath\u001b[0m\u001b[0;34m.\u001b[0m\u001b[0misfile\u001b[0m\u001b[0;34m(\u001b[0m\u001b[0mfilename\u001b[0m\u001b[0;34m)\u001b[0m\u001b[0;34m)\u001b[0m\u001b[0;34m\u001b[0m\u001b[0;34m\u001b[0m\u001b[0m\n\u001b[0;32m----> 9\u001b[0;31m     \u001b[0mprint\u001b[0m\u001b[0;34m(\u001b[0m\u001b[0mos\u001b[0m\u001b[0;34m.\u001b[0m\u001b[0mpath\u001b[0m\u001b[0;34m.\u001b[0m\u001b[0mgetsize\u001b[0m\u001b[0;34m(\u001b[0m\u001b[0mfilename\u001b[0m\u001b[0;34m)\u001b[0m\u001b[0;34m)\u001b[0m\u001b[0;34m\u001b[0m\u001b[0;34m\u001b[0m\u001b[0m\n\u001b[0m\u001b[1;32m     10\u001b[0m     \u001b[0mos\u001b[0m\u001b[0;34m.\u001b[0m\u001b[0mremove\u001b[0m\u001b[0;34m(\u001b[0m\u001b[0mfilename\u001b[0m\u001b[0;34m)\u001b[0m\u001b[0;34m\u001b[0m\u001b[0;34m\u001b[0m\u001b[0m\n",
      "\u001b[0;32m~/anaconda3/lib/python3.7/genericpath.py\u001b[0m in \u001b[0;36mgetsize\u001b[0;34m(filename)\u001b[0m\n\u001b[1;32m     48\u001b[0m \u001b[0;32mdef\u001b[0m \u001b[0mgetsize\u001b[0m\u001b[0;34m(\u001b[0m\u001b[0mfilename\u001b[0m\u001b[0;34m)\u001b[0m\u001b[0;34m:\u001b[0m\u001b[0;34m\u001b[0m\u001b[0;34m\u001b[0m\u001b[0m\n\u001b[1;32m     49\u001b[0m     \u001b[0;34m\"\"\"Return the size of a file, reported by os.stat().\"\"\"\u001b[0m\u001b[0;34m\u001b[0m\u001b[0;34m\u001b[0m\u001b[0m\n\u001b[0;32m---> 50\u001b[0;31m     \u001b[0;32mreturn\u001b[0m \u001b[0mos\u001b[0m\u001b[0;34m.\u001b[0m\u001b[0mstat\u001b[0m\u001b[0;34m(\u001b[0m\u001b[0mfilename\u001b[0m\u001b[0;34m)\u001b[0m\u001b[0;34m.\u001b[0m\u001b[0mst_size\u001b[0m\u001b[0;34m\u001b[0m\u001b[0;34m\u001b[0m\u001b[0m\n\u001b[0m\u001b[1;32m     51\u001b[0m \u001b[0;34m\u001b[0m\u001b[0m\n\u001b[1;32m     52\u001b[0m \u001b[0;34m\u001b[0m\u001b[0m\n",
      "\u001b[0;31mFileNotFoundError\u001b[0m: [Errno 2] No such file or directory: '/Users/dan/Documents/Projects/DonkeyCar/tub/test-set-01/10641_cam-image_array_.jpg'"
     ]
    }
   ],
   "source": [
    "import os\n",
    "\n",
    "file = open('/Users/dan/Documents/Projects/DonkeyCar/notes/invalid-file-list.txt', 'r')\n",
    "lines = file.readlines()\n",
    "for id in lines:\n",
    "    filename = '/Users/dan/Documents/Projects/DonkeyCar/tub/test-set-01/' + id.strip() + '_cam-image_array_.jpg'\n",
    "    print(filename)\n",
    "    print(os.path.isfile(filename))\n",
    "    print(os.path.getsize(filename))\n",
    "    os.remove(filename)"
   ]
  },
  {
   "cell_type": "markdown",
   "metadata": {},
   "source": [
    "Now let's list the file sizes of the remaining JPG image files."
   ]
  },
  {
   "cell_type": "code",
   "execution_count": 130,
   "metadata": {},
   "outputs": [
    {
     "name": "stdout",
     "output_type": "stream",
     "text": [
      "File Name: 3937_cam-image_array_.jpg\n",
      "Size (Bytes): 3496\n",
      "File Name: 1086_cam-image_array_.jpg\n",
      "Size (Bytes): 4338\n",
      "File Name: 6247_cam-image_array_.jpg\n",
      "Size (Bytes): 3295\n",
      "File Name: 1202_cam-image_array_.jpg\n",
      "Size (Bytes): 2620\n",
      "File Name: 8578_cam-image_array_.jpg\n",
      "Size (Bytes): 3412\n",
      "File Name: 16558_cam-image_array_.jpg\n",
      "Size (Bytes): 3666\n",
      "File Name: 11799_cam-image_array_.jpg\n",
      "Size (Bytes): 3917\n",
      "File Name: 7545_cam-image_array_.jpg\n",
      "Size (Bytes): 4346\n",
      "File Name: 4972_cam-image_array_.jpg\n",
      "Size (Bytes): 3147\n",
      "File Name: 10068_cam-image_array_.jpg\n",
      "Size (Bytes): 3946\n"
     ]
    }
   ],
   "source": [
    "import os\n",
    "import glob\n",
    "\n",
    "tubPath = Path('/Users/dan/Documents/Projects/DonkeyCar/tub/test-set-01')\n",
    "\n",
    "sample_files = glob.glob1(tubPath, \"*.jpg\")[:10]\n",
    "\n",
    "for filename in sample_files:\n",
    "    print(\"File Name:\", filename)\n",
    "    print(\"Size (Bytes):\", os.path.getsize(os.path.join(tubPath, filename)))"
   ]
  },
  {
   "cell_type": "code",
   "execution_count": null,
   "metadata": {},
   "outputs": [],
   "source": []
  }
 ],
 "metadata": {
  "kernelspec": {
   "display_name": "Python 3",
   "language": "python",
   "name": "python3"
  },
  "language_info": {
   "codemirror_mode": {
    "name": "ipython",
    "version": 3
   },
   "file_extension": ".py",
   "mimetype": "text/x-python",
   "name": "python",
   "nbconvert_exporter": "python",
   "pygments_lexer": "ipython3",
   "version": "3.7.1"
  }
 },
 "nbformat": 4,
 "nbformat_minor": 2
}
